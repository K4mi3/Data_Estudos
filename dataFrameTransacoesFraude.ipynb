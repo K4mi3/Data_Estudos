{
 "cells": [
  {
   "cell_type": "code",
   "metadata": {},
   "execution_count": 1,
   "source": [
    "import pandas as pd\n",
    "\n",
    "# Criação do dataset simulado\n",
    "data = {\n",
    "    'Nome do Cliente': ['João Silva', 'Maria Santos', 'Pedro Oliveira', 'Ana Costa', 'Lucas Rodrigues',\n",
    "                       'Mariana Almeida', 'Ricardo Souza', 'Carla Mendes', 'Fernando Pereira', 'Juliana Santos',\n",
    "                       'Carlos Ribeiro', 'Lúcia Mendonça', 'Rafaela Castro'],\n",
    "    'Estabelecimento': ['Supermercado XYZ', 'Livraria ABC', 'Restaurante XYZ', 'Loja de Eletrônicos ABC',\n",
    "                        'Cafeteria XYZ', 'Supermercado ABC', 'Restaurante ABC', 'Loja de Roupas XYZ',\n",
    "                        'Farmácia ABC', 'Posto de Gasolina XYZ', 'Supermercado XYZ', 'Livraria ABC',\n",
    "                        'Restaurante XYZ'],\n",
    "    'Hora da Compra': ['10:23:45', '14:12:30', '18:45:17', '09:15:00', '16:30:22',\n",
    "                       '11:55:10', '20:00:05', '15:20:40', '12:10:15', '17:05:55',\n",
    "                       '09:30:00', '12:45:30', '19:20:15'],\n",
    "    'Valor': [150.20, 78.50, 92.80, 499.99, 12.75, 42.30, 75.60, 200.00, 35.90, 65.40,\n",
    "              1000.00, 500.00, 750.00]\n",
    "}\n",
    "\n",
    "# Criação do DataFrame\n",
    "df = pd.DataFrame(data)\n",
    "\n",
    "# Marcação de transações fraudulentas\n",
    "df['Fraude'] = False\n",
    "df.loc[df['Nome do Cliente'].isin(['Carlos Ribeiro', 'Lúcia Mendonça']), 'Fraude'] = True\n",
    "\n",
    "# Exibição do DataFrame\n",
    "df\n"
   ]
  }
 ],
 "metadata": {
  "kernelspec": {
   "name": "python3",
   "display_name": "Python 3",
   "language": "python"
  },
  "language_info": {
   "name": "python",
   "version": "3.7.10",
   "mimetype": "text/x-python",
   "codemirror_mode": {
    "name": "ipython",
    "version": 3
   },
   "pygments_lexer": "ipython3",
   "nbconvert_exporter": "python",
   "file_extension": ".py"
  },
  "colab": {
   "name": "colab-env",
   "provenance": [],
   "collapsed_sections": [],
   "toc_visible": true,
   "mount_file_id": ""
  },
  "accelerator": "GPU"
 },
 "nbformat": 4,
 "nbformat_minor": 1
}
