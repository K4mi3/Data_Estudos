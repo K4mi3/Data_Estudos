{
 "cells": [
  {
   "cell_type": "code",
   "execution_count": 1,
   "metadata": {},
   "outputs": [
    {
     "data": {
      "text/html": [
       "<div>\n",
       "<style scoped>\n",
       "    .dataframe tbody tr th:only-of-type {\n",
       "        vertical-align: middle;\n",
       "    }\n",
       "\n",
       "    .dataframe tbody tr th {\n",
       "        vertical-align: top;\n",
       "    }\n",
       "\n",
       "    .dataframe thead th {\n",
       "        text-align: right;\n",
       "    }\n",
       "</style>\n",
       "<table border=\"1\" class=\"dataframe\">\n",
       "  <thead>\n",
       "    <tr style=\"text-align: right;\">\n",
       "      <th></th>\n",
       "      <th>Nome do Cliente</th>\n",
       "      <th>Estabelecimento</th>\n",
       "      <th>Hora da Compra</th>\n",
       "      <th>Valor</th>\n",
       "    </tr>\n",
       "  </thead>\n",
       "  <tbody>\n",
       "    <tr>\n",
       "      <th>0</th>\n",
       "      <td>Maria Santos</td>\n",
       "      <td>Supermercado ABC</td>\n",
       "      <td>09:59:47</td>\n",
       "      <td>1570.28</td>\n",
       "    </tr>\n",
       "    <tr>\n",
       "      <th>1</th>\n",
       "      <td>Pedro Oliveira</td>\n",
       "      <td>Livraria ABC</td>\n",
       "      <td>21:50:18</td>\n",
       "      <td>1940.73</td>\n",
       "    </tr>\n",
       "    <tr>\n",
       "      <th>2</th>\n",
       "      <td>Pedro Oliveira</td>\n",
       "      <td>Supermercado XYZ</td>\n",
       "      <td>18:39:07</td>\n",
       "      <td>1255.18</td>\n",
       "    </tr>\n",
       "    <tr>\n",
       "      <th>3</th>\n",
       "      <td>Rafaela Lima</td>\n",
       "      <td>Supermercado XYZ</td>\n",
       "      <td>23:45:17</td>\n",
       "      <td>81.99</td>\n",
       "    </tr>\n",
       "    <tr>\n",
       "      <th>4</th>\n",
       "      <td>Fernando Pereira</td>\n",
       "      <td>Padaria ABC</td>\n",
       "      <td>08:26:47</td>\n",
       "      <td>66.27</td>\n",
       "    </tr>\n",
       "    <tr>\n",
       "      <th>...</th>\n",
       "      <td>...</td>\n",
       "      <td>...</td>\n",
       "      <td>...</td>\n",
       "      <td>...</td>\n",
       "    </tr>\n",
       "    <tr>\n",
       "      <th>95</th>\n",
       "      <td>Mariana Almeida</td>\n",
       "      <td>Restaurante XYZ</td>\n",
       "      <td>08:34:23</td>\n",
       "      <td>163.34</td>\n",
       "    </tr>\n",
       "    <tr>\n",
       "      <th>96</th>\n",
       "      <td>Pedro Oliveira</td>\n",
       "      <td>Supermercado ABC</td>\n",
       "      <td>17:59:07</td>\n",
       "      <td>1658.58</td>\n",
       "    </tr>\n",
       "    <tr>\n",
       "      <th>97</th>\n",
       "      <td>Ana Costa</td>\n",
       "      <td>Padaria ABC</td>\n",
       "      <td>15:47:39</td>\n",
       "      <td>905.69</td>\n",
       "    </tr>\n",
       "    <tr>\n",
       "      <th>98</th>\n",
       "      <td>Fernando Pereira</td>\n",
       "      <td>Posto de Gasolina XYZ</td>\n",
       "      <td>09:34:43</td>\n",
       "      <td>470.00</td>\n",
       "    </tr>\n",
       "    <tr>\n",
       "      <th>99</th>\n",
       "      <td>Juliana Santos</td>\n",
       "      <td>Supermercado ABC</td>\n",
       "      <td>02:23:28</td>\n",
       "      <td>435.33</td>\n",
       "    </tr>\n",
       "  </tbody>\n",
       "</table>\n",
       "<p>100 rows × 4 columns</p>\n",
       "</div>"
      ],
      "text/plain": [
       "     Nome do Cliente        Estabelecimento Hora da Compra    Valor\n",
       "0       Maria Santos       Supermercado ABC       09:59:47  1570.28\n",
       "1     Pedro Oliveira           Livraria ABC       21:50:18  1940.73\n",
       "2     Pedro Oliveira       Supermercado XYZ       18:39:07  1255.18\n",
       "3       Rafaela Lima       Supermercado XYZ       23:45:17    81.99\n",
       "4   Fernando Pereira            Padaria ABC       08:26:47    66.27\n",
       "..               ...                    ...            ...      ...\n",
       "95   Mariana Almeida        Restaurante XYZ       08:34:23   163.34\n",
       "96    Pedro Oliveira       Supermercado ABC       17:59:07  1658.58\n",
       "97         Ana Costa            Padaria ABC       15:47:39   905.69\n",
       "98  Fernando Pereira  Posto de Gasolina XYZ       09:34:43   470.00\n",
       "99    Juliana Santos       Supermercado ABC       02:23:28   435.33\n",
       "\n",
       "[100 rows x 4 columns]"
      ]
     },
     "execution_count": 1,
     "metadata": {},
     "output_type": "execute_result"
    }
   ],
   "source": [
    "import pandas as pd\n",
    "import random\n",
    "\n",
    "# Criação do dataset simulado\n",
    "data = {\n",
    "    'Nome do Cliente': [],\n",
    "    'Estabelecimento': [],\n",
    "    'Hora da Compra': [],\n",
    "    'Valor': []\n",
    "}\n",
    "\n",
    "# Definição do número de transações e clientes com fraude\n",
    "num_transacoes = 100\n",
    "clientes_fraude = ['João Silva', 'Maria Santos', 'Pedro Oliveira', 'Ana Costa']\n",
    "\n",
    "# Geração das transações\n",
    "for _ in range(num_transacoes):\n",
    "    nome_cliente = random.choice(['João Silva', 'Maria Santos', 'Pedro Oliveira', 'Ana Costa',\n",
    "                                 'Lucas Rodrigues', 'Mariana Almeida', 'Ricardo Souza',\n",
    "                                 'Carla Mendes', 'Fernando Pereira', 'Juliana Santos',\n",
    "                                 'Rafaela Lima', 'Diego Ferreira'])\n",
    "    estabelecimento = random.choice(['Supermercado XYZ', 'Livraria ABC', 'Restaurante XYZ',\n",
    "                                    'Loja de Eletrônicos ABC', 'Cafeteria XYZ', 'Supermercado ABC',\n",
    "                                    'Restaurante ABC', 'Loja de Roupas XYZ', 'Farmácia ABC',\n",
    "                                    'Posto de Gasolina XYZ', 'Padaria ABC', 'Academia XYZ'])\n",
    "    hora_compra = f'{random.randint(0, 23):02d}:{random.randint(0, 59):02d}:{random.randint(0, 59):02d}'\n",
    "    valor = random.uniform(1.0, 500.0)\n",
    "    \n",
    "    if nome_cliente in clientes_fraude:\n",
    "        valor *= 5  # Multiplica o valor por 5 para simular uma transação fraudulenta\n",
    "        \n",
    "    data['Nome do Cliente'].append(nome_cliente)\n",
    "    data['Estabelecimento'].append(estabelecimento)\n",
    "    data['Hora da Compra'].append(hora_compra)\n",
    "    data['Valor'].append(round(valor, 2))\n",
    "\n",
    "# Criação do DataFrame\n",
    "df = pd.DataFrame(data)\n",
    "\n",
    "# Exibição do DataFrame\n",
    "df\n"
   ]
  },
  {
   "cell_type": "code",
   "execution_count": null,
   "metadata": {},
   "outputs": [],
   "source": [
    "teste =hora_compra.format(\"12:00:00\")"
   ]
  },
  {
   "cell_type": "code",
   "execution_count": 31,
   "metadata": {},
   "outputs": [
    {
     "ename": "ValueError",
     "evalue": "Invalid format specifier",
     "output_type": "error",
     "traceback": [
      "\u001b[1;31m---------------------------------------------------------------------------\u001b[0m",
      "\u001b[1;31mValueError\u001b[0m                                Traceback (most recent call last)",
      "Cell \u001b[1;32mIn[31], line 1\u001b[0m\n\u001b[1;32m----> 1\u001b[0m teste1 \u001b[39m=\u001b[39m valor\u001b[39m.\u001b[39;49m\u001b[39m__format__\u001b[39;49m(\u001b[39m\"\u001b[39;49m\u001b[39m120,00\u001b[39;49m\u001b[39m\"\u001b[39;49m)\n",
      "\u001b[1;31mValueError\u001b[0m: Invalid format specifier"
     ]
    }
   ],
   "source": [
    "teste1 = valor.__format__(\"120,00\")"
   ]
  },
  {
   "cell_type": "code",
   "execution_count": 29,
   "metadata": {},
   "outputs": [
    {
     "data": {
      "text/html": [
       "<div>\n",
       "<style scoped>\n",
       "    .dataframe tbody tr th:only-of-type {\n",
       "        vertical-align: middle;\n",
       "    }\n",
       "\n",
       "    .dataframe tbody tr th {\n",
       "        vertical-align: top;\n",
       "    }\n",
       "\n",
       "    .dataframe thead th {\n",
       "        text-align: right;\n",
       "    }\n",
       "</style>\n",
       "<table border=\"1\" class=\"dataframe\">\n",
       "  <thead>\n",
       "    <tr style=\"text-align: right;\">\n",
       "      <th></th>\n",
       "      <th>Nome do Cliente</th>\n",
       "      <th>Estabelecimento</th>\n",
       "      <th>Hora da Compra</th>\n",
       "      <th>Valor</th>\n",
       "    </tr>\n",
       "  </thead>\n",
       "  <tbody>\n",
       "    <tr>\n",
       "      <th>0</th>\n",
       "      <td>Mariana Almeida</td>\n",
       "      <td>Livraria ABC</td>\n",
       "      <td>17:25:22</td>\n",
       "      <td>176.95</td>\n",
       "    </tr>\n",
       "    <tr>\n",
       "      <th>1</th>\n",
       "      <td>Fernando Pereira</td>\n",
       "      <td>Padaria ABC</td>\n",
       "      <td>13:07:21</td>\n",
       "      <td>73.72</td>\n",
       "    </tr>\n",
       "    <tr>\n",
       "      <th>2</th>\n",
       "      <td>Mariana Almeida</td>\n",
       "      <td>Supermercado ABC</td>\n",
       "      <td>02:22:33</td>\n",
       "      <td>132.53</td>\n",
       "    </tr>\n",
       "    <tr>\n",
       "      <th>3</th>\n",
       "      <td>Rafaela Lima</td>\n",
       "      <td>Padaria ABC</td>\n",
       "      <td>02:14:33</td>\n",
       "      <td>418.79</td>\n",
       "    </tr>\n",
       "    <tr>\n",
       "      <th>4</th>\n",
       "      <td>Mariana Almeida</td>\n",
       "      <td>Supermercado ABC</td>\n",
       "      <td>09:50:15</td>\n",
       "      <td>246.20</td>\n",
       "    </tr>\n",
       "    <tr>\n",
       "      <th>...</th>\n",
       "      <td>...</td>\n",
       "      <td>...</td>\n",
       "      <td>...</td>\n",
       "      <td>...</td>\n",
       "    </tr>\n",
       "    <tr>\n",
       "      <th>95</th>\n",
       "      <td>Lucas Rodrigues</td>\n",
       "      <td>Restaurante ABC</td>\n",
       "      <td>16:20:14</td>\n",
       "      <td>182.53</td>\n",
       "    </tr>\n",
       "    <tr>\n",
       "      <th>96</th>\n",
       "      <td>Rafaela Lima</td>\n",
       "      <td>Loja de Roupas XYZ</td>\n",
       "      <td>20:52:16</td>\n",
       "      <td>386.28</td>\n",
       "    </tr>\n",
       "    <tr>\n",
       "      <th>97</th>\n",
       "      <td>Pedro Oliveira</td>\n",
       "      <td>Loja de Eletrônicos ABC</td>\n",
       "      <td>09:06:22</td>\n",
       "      <td>747.58</td>\n",
       "    </tr>\n",
       "    <tr>\n",
       "      <th>98</th>\n",
       "      <td>Juliana Santos</td>\n",
       "      <td>Padaria ABC</td>\n",
       "      <td>01:01:46</td>\n",
       "      <td>427.12</td>\n",
       "    </tr>\n",
       "    <tr>\n",
       "      <th>99</th>\n",
       "      <td>Lucas Rodrigues</td>\n",
       "      <td>Loja de Roupas XYZ</td>\n",
       "      <td>19:31:20</td>\n",
       "      <td>493.07</td>\n",
       "    </tr>\n",
       "  </tbody>\n",
       "</table>\n",
       "<p>100 rows × 4 columns</p>\n",
       "</div>"
      ],
      "text/plain": [
       "     Nome do Cliente          Estabelecimento Hora da Compra   Valor\n",
       "0    Mariana Almeida             Livraria ABC       17:25:22  176.95\n",
       "1   Fernando Pereira              Padaria ABC       13:07:21   73.72\n",
       "2    Mariana Almeida         Supermercado ABC       02:22:33  132.53\n",
       "3       Rafaela Lima              Padaria ABC       02:14:33  418.79\n",
       "4    Mariana Almeida         Supermercado ABC       09:50:15  246.20\n",
       "..               ...                      ...            ...     ...\n",
       "95   Lucas Rodrigues          Restaurante ABC       16:20:14  182.53\n",
       "96      Rafaela Lima       Loja de Roupas XYZ       20:52:16  386.28\n",
       "97    Pedro Oliveira  Loja de Eletrônicos ABC       09:06:22  747.58\n",
       "98    Juliana Santos              Padaria ABC       01:01:46  427.12\n",
       "99   Lucas Rodrigues       Loja de Roupas XYZ       19:31:20  493.07\n",
       "\n",
       "[100 rows x 4 columns]"
      ]
     },
     "execution_count": 29,
     "metadata": {},
     "output_type": "execute_result"
    }
   ],
   "source": [
    "df"
   ]
  },
  {
   "cell_type": "code",
   "execution_count": 9,
   "metadata": {},
   "outputs": [
    {
     "name": "stdout",
     "output_type": "stream",
     "text": [
      "3\n"
     ]
    }
   ],
   "source": [
    "x = 4\n",
    "\n",
    "if x < 0: \n",
    "    print(\"1\")\n",
    "elif x == 0:\n",
    "    print(\"2\")\n",
    "elif 0 < x <5:\n",
    "    print(\"3\")\n",
    "else:\n",
    "    print(\"bumbum\")        "
   ]
  },
  {
   "cell_type": "code",
   "execution_count": 10,
   "metadata": {},
   "outputs": [],
   "source": [
    "tup =(4,5,6)"
   ]
  },
  {
   "cell_type": "code",
   "execution_count": 11,
   "metadata": {},
   "outputs": [],
   "source": [
    "a_list = [1,2,3,None]"
   ]
  },
  {
   "cell_type": "code",
   "execution_count": 12,
   "metadata": {},
   "outputs": [],
   "source": [
    "tup = (\"foo\",\"bar\",\"baz\")"
   ]
  },
  {
   "cell_type": "code",
   "execution_count": 13,
   "metadata": {},
   "outputs": [],
   "source": [
    "b_list = list(tup)"
   ]
  },
  {
   "cell_type": "code",
   "execution_count": 14,
   "metadata": {},
   "outputs": [
    {
     "data": {
      "text/plain": [
       "['foo', 'bar', 'baz']"
      ]
     },
     "execution_count": 14,
     "metadata": {},
     "output_type": "execute_result"
    }
   ],
   "source": [
    "b_list"
   ]
  },
  {
   "cell_type": "code",
   "execution_count": 15,
   "metadata": {},
   "outputs": [
    {
     "data": {
      "text/plain": [
       "'bar'"
      ]
     },
     "execution_count": 15,
     "metadata": {},
     "output_type": "execute_result"
    }
   ],
   "source": [
    "b_list[1]"
   ]
  },
  {
   "cell_type": "code",
   "execution_count": 16,
   "metadata": {},
   "outputs": [],
   "source": [
    "b_list[1] = \"peekaboo\""
   ]
  },
  {
   "cell_type": "code",
   "execution_count": 17,
   "metadata": {},
   "outputs": [
    {
     "data": {
      "text/plain": [
       "'peekaboo'"
      ]
     },
     "execution_count": 17,
     "metadata": {},
     "output_type": "execute_result"
    }
   ],
   "source": [
    "b_list[1]"
   ]
  },
  {
   "cell_type": "code",
   "execution_count": 18,
   "metadata": {},
   "outputs": [],
   "source": [
    "gen = range(10)"
   ]
  },
  {
   "cell_type": "code",
   "execution_count": 19,
   "metadata": {},
   "outputs": [
    {
     "data": {
      "text/plain": [
       "range(0, 10)"
      ]
     },
     "execution_count": 19,
     "metadata": {},
     "output_type": "execute_result"
    }
   ],
   "source": [
    "gen"
   ]
  },
  {
   "cell_type": "code",
   "execution_count": null,
   "metadata": {},
   "outputs": [],
   "source": []
  }
 ],
 "metadata": {
  "accelerator": "GPU",
  "colab": {
   "collapsed_sections": [],
   "mount_file_id": "",
   "name": "colab-env",
   "provenance": [],
   "toc_visible": true
  },
  "kernelspec": {
   "display_name": "Python 3",
   "language": "python",
   "name": "python3"
  },
  "language_info": {
   "codemirror_mode": {
    "name": "ipython",
    "version": 3
   },
   "file_extension": ".py",
   "mimetype": "text/x-python",
   "name": "python",
   "nbconvert_exporter": "python",
   "pygments_lexer": "ipython3",
   "version": "3.10.9"
  }
 },
 "nbformat": 4,
 "nbformat_minor": 1
}
