{
 "cells": [
  {
   "cell_type": "code",
   "metadata": {},
   "execution_count": 1,
   "source": [
    "import pandas as pd\n",
    "import random\n",
    "\n",
    "# Criação do dataset simulado\n",
    "data = {\n",
    "    'Nome do Cliente': [],\n",
    "    'Estabelecimento': [],\n",
    "    'Hora da Compra': [],\n",
    "    'Valor': []\n",
    "}\n",
    "\n",
    "# Definição do número de transações e clientes com fraude\n",
    "num_transacoes = 100\n",
    "clientes_fraude = ['João Silva', 'Maria Santos', 'Pedro Oliveira', 'Ana Costa']\n",
    "\n",
    "# Geração das transações\n",
    "for _ in range(num_transacoes):\n",
    "    nome_cliente = random.choice(['João Silva', 'Maria Santos', 'Pedro Oliveira', 'Ana Costa',\n",
    "                                 'Lucas Rodrigues', 'Mariana Almeida', 'Ricardo Souza',\n",
    "                                 'Carla Mendes', 'Fernando Pereira', 'Juliana Santos',\n",
    "                                 'Rafaela Lima', 'Diego Ferreira'])\n",
    "    estabelecimento = random.choice(['Supermercado XYZ', 'Livraria ABC', 'Restaurante XYZ',\n",
    "                                    'Loja de Eletrônicos ABC', 'Cafeteria XYZ', 'Supermercado ABC',\n",
    "                                    'Restaurante ABC', 'Loja de Roupas XYZ', 'Farmácia ABC',\n",
    "                                    'Posto de Gasolina XYZ', 'Padaria ABC', 'Academia XYZ'])\n",
    "    hora_compra = f'{random.randint(0, 23):02d}:{random.randint(0, 59):02d}:{random.randint(0, 59):02d}'\n",
    "    valor = random.uniform(1.0, 500.0)\n",
    "    \n",
    "    if nome_cliente in clientes_fraude:\n",
    "        valor *= 5  # Multiplica o valor por 5 para simular uma transação fraudulenta\n",
    "        \n",
    "    data['Nome do Cliente'].append(nome_cliente)\n",
    "    data['Estabelecimento'].append(estabelecimento)\n",
    "    data['Hora da Compra'].append(hora_compra)\n",
    "    data['Valor'].append(round(valor, 2))\n",
    "\n",
    "# Criação do DataFrame\n",
    "df = pd.DataFrame(data)\n",
    "\n",
    "# Exibição do DataFrame\n",
    "df\n"
   ]
  }
 ],
 "metadata": {
  "kernelspec": {
   "name": "python3",
   "display_name": "Python 3",
   "language": "python"
  },
  "language_info": {
   "name": "python",
   "version": "3.7.10",
   "mimetype": "text/x-python",
   "codemirror_mode": {
    "name": "ipython",
    "version": 3
   },
   "pygments_lexer": "ipython3",
   "nbconvert_exporter": "python",
   "file_extension": ".py"
  },
  "colab": {
   "name": "colab-env",
   "provenance": [],
   "collapsed_sections": [],
   "toc_visible": true,
   "mount_file_id": ""
  },
  "accelerator": "GPU"
 },
 "nbformat": 4,
 "nbformat_minor": 1
}
